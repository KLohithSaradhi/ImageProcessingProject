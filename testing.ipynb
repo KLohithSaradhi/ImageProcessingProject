{
 "cells": [
  {
   "cell_type": "code",
   "execution_count": 1,
   "metadata": {},
   "outputs": [
    {
     "name": "stderr",
     "output_type": "stream",
     "text": [
      "/Users/lohith/miniconda3/envs/torch/lib/python3.8/site-packages/tqdm/auto.py:21: TqdmWarning: IProgress not found. Please update jupyter and ipywidgets. See https://ipywidgets.readthedocs.io/en/stable/user_install.html\n",
      "  from .autonotebook import tqdm as notebook_tqdm\n",
      "/Users/lohith/miniconda3/envs/torch/lib/python3.8/site-packages/transformers/utils/generic.py:441: UserWarning: torch.utils._pytree._register_pytree_node is deprecated. Please use torch.utils._pytree.register_pytree_node instead.\n",
      "  _torch_pytree._register_pytree_node(\n"
     ]
    },
    {
     "data": {
      "text/plain": [
       "tensor([[[[0.2148, 0.3479, 0.3411,  ..., 0.4534, 0.9383, 0.7098],\n",
       "          [0.2500, 0.8296, 0.4368,  ..., 0.3870, 0.9855, 0.0024],\n",
       "          [0.8325, 0.0572, 0.7452,  ..., 0.9246, 0.3163, 0.0387],\n",
       "          ...,\n",
       "          [0.1549, 0.4975, 0.3519,  ..., 0.5607, 0.7276, 0.9387],\n",
       "          [0.9476, 0.7816, 0.0642,  ..., 0.4489, 0.4222, 0.3154],\n",
       "          [0.5571, 0.2742, 0.5309,  ..., 0.7936, 0.9107, 0.6368]],\n",
       "\n",
       "         [[0.0603, 0.7516, 0.7138,  ..., 0.8398, 0.6423, 0.7054],\n",
       "          [0.6519, 0.3120, 0.0958,  ..., 0.1720, 0.0408, 0.4838],\n",
       "          [0.9698, 0.0784, 0.8852,  ..., 0.3910, 0.6729, 0.9358],\n",
       "          ...,\n",
       "          [0.1026, 0.3983, 0.2273,  ..., 0.5781, 0.7181, 0.6994],\n",
       "          [0.1480, 0.1465, 0.9762,  ..., 0.7023, 0.0702, 0.5264],\n",
       "          [0.9121, 0.6752, 0.3250,  ..., 0.6807, 0.1786, 0.3588]],\n",
       "\n",
       "         [[0.6170, 0.0631, 0.2282,  ..., 0.7126, 0.7399, 0.0357],\n",
       "          [0.0897, 0.2909, 0.2502,  ..., 0.4226, 0.1769, 0.5665],\n",
       "          [0.6091, 0.9911, 0.0785,  ..., 0.9985, 0.5321, 0.4222],\n",
       "          ...,\n",
       "          [0.5697, 0.0986, 0.4961,  ..., 0.6841, 0.5807, 0.0997],\n",
       "          [0.2816, 0.6961, 0.0066,  ..., 0.2766, 0.3141, 0.7063],\n",
       "          [0.4027, 0.3080, 0.7205,  ..., 0.5390, 0.1676, 0.9817]],\n",
       "\n",
       "         ...,\n",
       "\n",
       "         [[0.9937, 0.4920, 0.7946,  ..., 0.7684, 0.0486, 0.3707],\n",
       "          [0.7931, 0.4878, 0.8818,  ..., 0.7763, 0.8854, 0.6432],\n",
       "          [0.5540, 0.4125, 0.0797,  ..., 0.8935, 0.9317, 0.8559],\n",
       "          ...,\n",
       "          [0.4661, 0.4637, 0.5848,  ..., 0.9220, 0.4914, 0.4323],\n",
       "          [0.3854, 0.7276, 0.1472,  ..., 0.3516, 0.7215, 0.1955],\n",
       "          [0.6972, 0.9009, 0.7516,  ..., 0.0565, 0.6791, 0.2984]],\n",
       "\n",
       "         [[0.6460, 0.3582, 0.5269,  ..., 0.2353, 0.8321, 0.5703],\n",
       "          [0.2184, 0.4184, 0.8438,  ..., 0.3972, 0.6748, 0.9919],\n",
       "          [0.4124, 0.7233, 0.1676,  ..., 0.4794, 0.5886, 0.6852],\n",
       "          ...,\n",
       "          [0.7073, 0.8796, 0.5266,  ..., 0.3939, 0.6207, 0.9929],\n",
       "          [0.3405, 0.0223, 0.2024,  ..., 0.8430, 0.3508, 0.7722],\n",
       "          [0.7169, 0.9276, 0.0498,  ..., 0.2757, 0.4344, 0.9479]],\n",
       "\n",
       "         [[0.7892, 0.0731, 0.9808,  ..., 0.8516, 0.9185, 0.4171],\n",
       "          [0.8792, 0.2967, 0.0475,  ..., 0.4516, 0.9673, 0.8278],\n",
       "          [0.0299, 0.5174, 0.8635,  ..., 0.9856, 0.6557, 0.7920],\n",
       "          ...,\n",
       "          [0.3184, 0.8669, 0.6938,  ..., 0.4209, 0.0095, 0.6884],\n",
       "          [0.9953, 0.5762, 0.0222,  ..., 0.0462, 0.2031, 0.4613],\n",
       "          [0.0695, 0.5532, 0.5116,  ..., 0.5601, 0.3830, 0.5661]]]])"
      ]
     },
     "execution_count": 1,
     "metadata": {},
     "output_type": "execute_result"
    }
   ],
   "source": [
    "import torch\n",
    "import numpy as np\n",
    "import utils\n",
    "\n",
    "# Dummy image\n",
    "image = np.random.rand(1, 64, 9, 9)\n",
    "image = torch.tensor(image, dtype=torch.float32)\n",
    "image"
   ]
  },
  {
   "cell_type": "code",
   "execution_count": 2,
   "metadata": {},
   "outputs": [],
   "source": [
    "dec = utils.DecodingBlock(64)"
   ]
  },
  {
   "cell_type": "code",
   "execution_count": 3,
   "metadata": {},
   "outputs": [
    {
     "data": {
      "text/plain": [
       "tensor([[[[0.3787, 0.4918, 0.7117,  ..., 0.8349, 0.9594, 0.8000],\n",
       "          [0.6323, 0.7589, 0.4581,  ..., 0.4583, 0.0733, 0.2116],\n",
       "          [0.9334, 0.2199, 0.5580,  ..., 0.0739, 0.6387, 0.2012],\n",
       "          ...,\n",
       "          [0.2043, 0.6393, 0.5136,  ..., 0.8505, 0.9123, 0.7065],\n",
       "          [0.5541, 0.8963, 0.3074,  ..., 0.0491, 0.4447, 0.3215],\n",
       "          [0.7035, 0.7442, 0.1638,  ..., 0.4638, 0.3443, 0.9711]],\n",
       "\n",
       "         [[0.4602, 0.2563, 0.2495,  ..., 0.7275, 0.5187, 0.7345],\n",
       "          [0.9192, 0.9957, 0.6716,  ..., 0.4497, 0.7897, 0.0663],\n",
       "          [0.1835, 0.5306, 0.3725,  ..., 0.4559, 0.7476, 0.3119],\n",
       "          ...,\n",
       "          [0.7564, 0.7895, 0.9443,  ..., 0.3145, 0.7763, 0.7449],\n",
       "          [0.9810, 0.6464, 0.6902,  ..., 0.1819, 0.6193, 0.6416],\n",
       "          [0.0067, 0.8948, 0.8649,  ..., 0.8738, 0.6306, 0.2460]],\n",
       "\n",
       "         [[0.6594, 0.1078, 0.9623,  ..., 0.5854, 0.1211, 0.1648],\n",
       "          [0.0197, 0.1476, 0.1723,  ..., 0.8840, 0.1842, 0.7257],\n",
       "          [0.3690, 0.2338, 0.8160,  ..., 0.7466, 0.3532, 0.3011],\n",
       "          ...,\n",
       "          [0.3882, 0.1072, 0.2355,  ..., 0.6236, 0.5632, 0.2461],\n",
       "          [0.6909, 0.3134, 0.2970,  ..., 0.6474, 0.3369, 0.4524],\n",
       "          [0.3087, 0.4876, 0.3557,  ..., 0.3366, 0.8065, 0.9460]]]])"
      ]
     },
     "execution_count": 3,
     "metadata": {},
     "output_type": "execute_result"
    }
   ],
   "source": [
    "import torch\n",
    "import numpy as np\n",
    "import model\n",
    "\n",
    "# Dummy image\n",
    "image = np.random.rand(1, 3, 64, 64)\n",
    "image = torch.tensor(image, dtype=torch.float32)\n",
    "image"
   ]
  },
  {
   "cell_type": "code",
   "execution_count": 4,
   "metadata": {},
   "outputs": [],
   "source": [
    "mask = model.MASK()"
   ]
  },
  {
   "cell_type": "code",
   "execution_count": 5,
   "metadata": {},
   "outputs": [],
   "source": [
    "# original image\n",
    "I0 = image\n",
    "#downsample by 2\n",
    "I1 = torch.nn.functional.avg_pool2d(I0, 2)\n",
    "#downsample by 4\n",
    "I2 = torch.nn.functional.avg_pool2d(I1, 2)\n",
    "#downsample by 8\n",
    "I3 = torch.nn.functional.avg_pool2d(I2, 2)"
   ]
  },
  {
   "cell_type": "code",
   "execution_count": 6,
   "metadata": {},
   "outputs": [
    {
     "name": "stdout",
     "output_type": "stream",
     "text": [
      "torch.Size([1, 3, 64, 64]) torch.Size([1, 3, 32, 32]) torch.Size([1, 3, 16, 16]) torch.Size([1, 3, 8, 8])\n"
     ]
    }
   ],
   "source": [
    "print(I0.shape, I1.shape, I2.shape, I3.shape)"
   ]
  },
  {
   "cell_type": "code",
   "execution_count": 7,
   "metadata": {},
   "outputs": [],
   "source": [
    "O0, O1, O2, O3 = mask(I0, I1, I2, I3)"
   ]
  },
  {
   "cell_type": "code",
   "execution_count": 8,
   "metadata": {},
   "outputs": [
    {
     "name": "stdout",
     "output_type": "stream",
     "text": [
      "torch.Size([1, 3, 64, 64]) torch.Size([1, 3, 32, 32]) torch.Size([1, 3, 16, 16]) torch.Size([1, 3, 8, 8])\n"
     ]
    }
   ],
   "source": [
    "print(O0.shape, O1.shape, O2.shape, O3.shape)"
   ]
  },
  {
   "cell_type": "code",
   "execution_count": 9,
   "metadata": {},
   "outputs": [
    {
     "name": "stderr",
     "output_type": "stream",
     "text": [
      "/Users/lohith/miniconda3/envs/torch/lib/python3.8/site-packages/torchvision/models/_utils.py:208: UserWarning: The parameter 'pretrained' is deprecated since 0.13 and may be removed in the future, please use 'weights' instead.\n",
      "  warnings.warn(\n",
      "/Users/lohith/miniconda3/envs/torch/lib/python3.8/site-packages/torchvision/models/_utils.py:223: UserWarning: Arguments other than a weight enum or `None` for 'weights' are deprecated since 0.13 and may be removed in the future. The current behavior is equivalent to passing `weights=VGG16_Weights.IMAGENET1K_V1`. You can also use `weights=VGG16_Weights.DEFAULT` to get the most up-to-date weights.\n",
      "  warnings.warn(msg)\n"
     ]
    },
    {
     "data": {
      "text/plain": [
       "tensor(1.9566, grad_fn=<AddBackward0>)"
      ]
     },
     "execution_count": 9,
     "metadata": {},
     "output_type": "execute_result"
    }
   ],
   "source": [
    "loss = utils.TotalLoss()\n",
    "\n",
    "loss((I0, I1, I2, I3), (O0, O1, O2, O3))"
   ]
  },
  {
   "cell_type": "code",
   "execution_count": null,
   "metadata": {},
   "outputs": [],
   "source": []
  }
 ],
 "metadata": {
  "kernelspec": {
   "display_name": "torch",
   "language": "python",
   "name": "python3"
  },
  "language_info": {
   "codemirror_mode": {
    "name": "ipython",
    "version": 3
   },
   "file_extension": ".py",
   "mimetype": "text/x-python",
   "name": "python",
   "nbconvert_exporter": "python",
   "pygments_lexer": "ipython3",
   "version": "3.8.18"
  }
 },
 "nbformat": 4,
 "nbformat_minor": 2
}
