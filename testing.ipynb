{
 "cells": [
  {
   "cell_type": "code",
   "execution_count": 1,
   "metadata": {},
   "outputs": [
    {
     "name": "stderr",
     "output_type": "stream",
     "text": [
      "/Users/lohith/miniconda3/envs/torch/lib/python3.8/site-packages/tqdm/auto.py:21: TqdmWarning: IProgress not found. Please update jupyter and ipywidgets. See https://ipywidgets.readthedocs.io/en/stable/user_install.html\n",
      "  from .autonotebook import tqdm as notebook_tqdm\n",
      "/Users/lohith/miniconda3/envs/torch/lib/python3.8/site-packages/transformers/utils/generic.py:441: UserWarning: torch.utils._pytree._register_pytree_node is deprecated. Please use torch.utils._pytree.register_pytree_node instead.\n",
      "  _torch_pytree._register_pytree_node(\n"
     ]
    },
    {
     "data": {
      "text/plain": [
       "tensor([[[[0.1161, 0.5282, 0.6192,  ..., 0.7842, 0.4087, 0.5643],\n",
       "          [0.3974, 0.7553, 0.2320,  ..., 0.3968, 0.6489, 0.0874],\n",
       "          [0.0956, 0.1871, 0.1374,  ..., 0.0885, 0.9354, 0.3197],\n",
       "          ...,\n",
       "          [0.9921, 0.6128, 0.1294,  ..., 0.4186, 0.2334, 0.6944],\n",
       "          [0.1126, 0.8951, 0.5369,  ..., 0.7405, 0.4198, 0.6735],\n",
       "          [0.0815, 0.0256, 0.8895,  ..., 0.4795, 0.6152, 0.5618]],\n",
       "\n",
       "         [[0.2506, 0.9124, 0.3920,  ..., 0.2785, 0.3010, 0.5634],\n",
       "          [0.3769, 0.8261, 0.6118,  ..., 0.5057, 0.8538, 0.7711],\n",
       "          [0.0642, 0.3185, 0.3460,  ..., 0.0846, 0.2655, 0.4300],\n",
       "          ...,\n",
       "          [0.4037, 0.9405, 0.2974,  ..., 0.2447, 0.4689, 0.3463],\n",
       "          [0.5612, 0.0482, 0.4940,  ..., 0.1331, 0.9363, 0.7342],\n",
       "          [0.0488, 0.6399, 0.1459,  ..., 0.7696, 0.5034, 0.1033]],\n",
       "\n",
       "         [[0.6116, 0.5371, 0.0722,  ..., 0.4832, 0.2970, 0.6722],\n",
       "          [0.4892, 0.2902, 0.8966,  ..., 0.9144, 0.8805, 0.1831],\n",
       "          [0.7736, 0.1715, 0.3707,  ..., 0.5950, 0.9937, 0.4425],\n",
       "          ...,\n",
       "          [0.3413, 0.4784, 0.5437,  ..., 0.0430, 0.9766, 0.8293],\n",
       "          [0.4502, 0.9925, 0.2727,  ..., 0.8987, 0.3413, 0.9118],\n",
       "          [0.9906, 0.4175, 0.3633,  ..., 0.1370, 0.1339, 0.2577]],\n",
       "\n",
       "         ...,\n",
       "\n",
       "         [[0.5455, 0.3646, 0.5995,  ..., 0.0139, 0.1140, 0.8399],\n",
       "          [0.6275, 0.0917, 0.3063,  ..., 0.5908, 0.9335, 0.1682],\n",
       "          [0.1616, 0.1951, 0.7551,  ..., 0.1738, 0.7424, 0.4125],\n",
       "          ...,\n",
       "          [0.8041, 0.2567, 0.8336,  ..., 0.7260, 0.9683, 0.8690],\n",
       "          [0.1697, 0.2332, 0.1410,  ..., 0.2680, 0.8213, 0.4860],\n",
       "          [0.4549, 0.9997, 0.9346,  ..., 0.4152, 0.5115, 0.5267]],\n",
       "\n",
       "         [[0.4319, 0.0534, 0.1814,  ..., 0.0638, 0.4156, 0.9467],\n",
       "          [0.8248, 0.6419, 0.3617,  ..., 0.1860, 0.2796, 0.5060],\n",
       "          [0.6030, 0.3295, 0.7878,  ..., 0.0560, 0.1501, 0.2183],\n",
       "          ...,\n",
       "          [0.9316, 0.5024, 0.7231,  ..., 0.9906, 0.7934, 0.0890],\n",
       "          [0.1514, 0.5380, 0.2970,  ..., 0.6086, 0.5210, 0.2862],\n",
       "          [0.1589, 0.8267, 0.4076,  ..., 0.4910, 0.1559, 0.5041]],\n",
       "\n",
       "         [[0.1588, 0.4987, 0.0052,  ..., 0.2538, 0.6183, 0.8624],\n",
       "          [0.0737, 0.8619, 0.8083,  ..., 0.1799, 0.5072, 0.4467],\n",
       "          [0.2028, 0.5719, 0.5970,  ..., 0.0723, 0.5259, 0.0808],\n",
       "          ...,\n",
       "          [0.2842, 0.3514, 0.0110,  ..., 0.3378, 0.0234, 0.1008],\n",
       "          [0.6494, 0.2991, 0.7575,  ..., 0.2781, 0.0201, 0.0134],\n",
       "          [0.9604, 0.2056, 0.1229,  ..., 0.2172, 0.7863, 0.3996]]]])"
      ]
     },
     "execution_count": 1,
     "metadata": {},
     "output_type": "execute_result"
    }
   ],
   "source": [
    "import torch\n",
    "import numpy as np\n",
    "import utils\n",
    "\n",
    "# Dummy image\n",
    "image = np.random.rand(1, 64, 9, 9)\n",
    "image = torch.tensor(image, dtype=torch.float32)\n",
    "image"
   ]
  },
  {
   "cell_type": "code",
   "execution_count": 2,
   "metadata": {},
   "outputs": [],
   "source": [
    "dec = utils.DecodingBlock(64)"
   ]
  },
  {
   "cell_type": "code",
   "execution_count": 3,
   "metadata": {},
   "outputs": [
    {
     "data": {
      "text/plain": [
       "tensor([[[[3.9469e-01, 3.0689e-01, 4.6498e-01,  ..., 1.3806e-01,\n",
       "           4.5866e-01, 4.2632e-01],\n",
       "          [4.2885e-01, 7.6207e-01, 4.3413e-01,  ..., 1.9040e-01,\n",
       "           3.3071e-01, 3.1546e-01],\n",
       "          [4.4580e-01, 8.8950e-01, 1.3671e-01,  ..., 7.8753e-01,\n",
       "           3.5205e-01, 5.7711e-02],\n",
       "          ...,\n",
       "          [6.4843e-01, 8.0345e-01, 9.9193e-01,  ..., 4.6737e-01,\n",
       "           5.0713e-01, 7.8470e-03],\n",
       "          [6.9811e-01, 2.4108e-01, 2.6859e-01,  ..., 9.9850e-01,\n",
       "           8.5305e-01, 2.0266e-02],\n",
       "          [8.5203e-02, 1.1738e-01, 9.5792e-01,  ..., 2.9371e-01,\n",
       "           1.2684e-01, 5.8941e-01]],\n",
       "\n",
       "         [[9.8759e-01, 1.7740e-01, 1.6308e-01,  ..., 7.1943e-01,\n",
       "           8.7688e-01, 1.9485e-01],\n",
       "          [2.2524e-01, 7.9913e-01, 2.0853e-01,  ..., 5.6960e-01,\n",
       "           7.6179e-01, 3.5259e-01],\n",
       "          [2.5594e-01, 8.0309e-01, 7.9397e-03,  ..., 8.1508e-01,\n",
       "           1.0063e-01, 2.4726e-01],\n",
       "          ...,\n",
       "          [2.2074e-01, 2.9708e-01, 1.2384e-02,  ..., 5.8546e-01,\n",
       "           2.0718e-05, 1.2876e-01],\n",
       "          [6.9509e-01, 1.0213e-01, 3.8970e-01,  ..., 4.2719e-01,\n",
       "           9.9693e-01, 6.5625e-03],\n",
       "          [2.8617e-01, 8.0200e-01, 1.8707e-01,  ..., 2.9103e-01,\n",
       "           6.8137e-01, 5.5791e-01]],\n",
       "\n",
       "         [[8.3954e-01, 4.3036e-01, 3.5545e-01,  ..., 2.4638e-01,\n",
       "           3.5594e-01, 4.8803e-01],\n",
       "          [1.7984e-01, 7.7565e-01, 9.1523e-02,  ..., 6.4342e-01,\n",
       "           8.1420e-01, 2.4452e-01],\n",
       "          [1.1582e-01, 7.0646e-01, 6.6815e-01,  ..., 6.6158e-01,\n",
       "           6.4926e-01, 9.2131e-01],\n",
       "          ...,\n",
       "          [8.5504e-01, 4.1497e-01, 9.7587e-01,  ..., 3.7696e-01,\n",
       "           6.4181e-01, 3.3789e-01],\n",
       "          [7.7074e-01, 8.3845e-01, 2.7461e-01,  ..., 6.6837e-01,\n",
       "           3.7235e-01, 8.4713e-01],\n",
       "          [9.1292e-02, 1.5441e-01, 3.3155e-01,  ..., 6.4197e-01,\n",
       "           4.0029e-01, 2.7752e-01]]]])"
      ]
     },
     "execution_count": 3,
     "metadata": {},
     "output_type": "execute_result"
    }
   ],
   "source": [
    "import torch\n",
    "import numpy as np\n",
    "import model\n",
    "\n",
    "# Dummy image\n",
    "image = np.random.rand(1, 3, 64, 64)\n",
    "image = torch.tensor(image, dtype=torch.float32)\n",
    "image"
   ]
  },
  {
   "cell_type": "code",
   "execution_count": 4,
   "metadata": {},
   "outputs": [],
   "source": [
    "mask = model.MASK()"
   ]
  },
  {
   "cell_type": "code",
   "execution_count": 5,
   "metadata": {},
   "outputs": [],
   "source": [
    "# original image\n",
    "I0 = image\n",
    "#downsample by 2\n",
    "I1 = torch.nn.functional.avg_pool2d(I0, 2)\n",
    "#downsample by 4\n",
    "I2 = torch.nn.functional.avg_pool2d(I1, 2)\n",
    "#downsample by 8\n",
    "I3 = torch.nn.functional.avg_pool2d(I2, 2)"
   ]
  },
  {
   "cell_type": "code",
   "execution_count": 6,
   "metadata": {},
   "outputs": [
    {
     "name": "stdout",
     "output_type": "stream",
     "text": [
      "torch.Size([1, 3, 64, 64]) torch.Size([1, 3, 32, 32]) torch.Size([1, 3, 16, 16]) torch.Size([1, 3, 8, 8])\n"
     ]
    }
   ],
   "source": [
    "print(I0.shape, I1.shape, I2.shape, I3.shape)"
   ]
  },
  {
   "cell_type": "code",
   "execution_count": 7,
   "metadata": {},
   "outputs": [],
   "source": [
    "O0, O1, O2, O3 = mask(I0, I1, I2, I3)"
   ]
  },
  {
   "cell_type": "code",
   "execution_count": 8,
   "metadata": {},
   "outputs": [
    {
     "name": "stdout",
     "output_type": "stream",
     "text": [
      "torch.Size([1, 3, 64, 64]) torch.Size([1, 3, 32, 32]) torch.Size([1, 3, 16, 16]) torch.Size([1, 3, 8, 8])\n"
     ]
    }
   ],
   "source": [
    "print(O0.shape, O1.shape, O2.shape, O3.shape)"
   ]
  },
  {
   "cell_type": "code",
   "execution_count": 9,
   "metadata": {},
   "outputs": [
    {
     "name": "stderr",
     "output_type": "stream",
     "text": [
      "/Users/lohith/miniconda3/envs/torch/lib/python3.8/site-packages/torchvision/models/_utils.py:208: UserWarning: The parameter 'pretrained' is deprecated since 0.13 and may be removed in the future, please use 'weights' instead.\n",
      "  warnings.warn(\n",
      "/Users/lohith/miniconda3/envs/torch/lib/python3.8/site-packages/torchvision/models/_utils.py:223: UserWarning: Arguments other than a weight enum or `None` for 'weights' are deprecated since 0.13 and may be removed in the future. The current behavior is equivalent to passing `weights=VGG16_Weights.IMAGENET1K_V1`. You can also use `weights=VGG16_Weights.DEFAULT` to get the most up-to-date weights.\n",
      "  warnings.warn(msg)\n"
     ]
    },
    {
     "data": {
      "text/plain": [
       "tensor(1.9082, grad_fn=<AddBackward0>)"
      ]
     },
     "execution_count": 9,
     "metadata": {},
     "output_type": "execute_result"
    }
   ],
   "source": [
    "loss = utils.TotalLoss()\n",
    "\n",
    "loss((I0, I1, I2, I3), (O0, O1, O2, O3))"
   ]
  },
  {
   "cell_type": "code",
   "execution_count": null,
   "metadata": {},
   "outputs": [],
   "source": []
  }
 ],
 "metadata": {
  "kernelspec": {
   "display_name": "torch",
   "language": "python",
   "name": "python3"
  },
  "language_info": {
   "codemirror_mode": {
    "name": "ipython",
    "version": 3
   },
   "file_extension": ".py",
   "mimetype": "text/x-python",
   "name": "python",
   "nbconvert_exporter": "python",
   "pygments_lexer": "ipython3",
   "version": "3.8.18"
  }
 },
 "nbformat": 4,
 "nbformat_minor": 2
}
