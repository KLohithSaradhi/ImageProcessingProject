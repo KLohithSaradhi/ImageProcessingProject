{
 "cells": [
  {
   "cell_type": "code",
   "execution_count": 1,
   "metadata": {},
   "outputs": [],
   "source": [
    "import torch\n",
    "from torch.utils.data import Dataset, DataLoader\n",
    "from torchvision.transforms import ToTensor\n",
    "\n",
    "from PIL import Image\n",
    "import os\n",
    "\n",
    "class RescaleTransform(object):\n",
    "    def __init__(self, scale):\n",
    "        self.scale = scale\n",
    "\n",
    "    def __call__(self, image):\n",
    "        return image.resize((int(image.size[0] * self.scale), int(image.size[1] * self.scale)))\n",
    "\n",
    "\n",
    "class HeyZee(Dataset):\n",
    "    def __init__(self, folder1_path, folder2_path,):\n",
    "        self.folder1_path = folder1_path\n",
    "        self.folder2_path = folder2_path\n",
    "        self.scale_transform = RescaleTransform(scale=0.5)\n",
    "        self.file_paths = self._get_file_paths()\n",
    "        self.tensor_transform = ToTensor()\n",
    "    \n",
    "\n",
    "    def _get_file_paths(self):\n",
    "        file_paths = []\n",
    "        folder1_files = os.listdir(self.folder1_path)\n",
    "        folder2_files = os.listdir(self.folder2_path)\n",
    "        for i in range(min(len(folder1_files), len(folder2_files))):\n",
    "            file_paths.append((os.path.join(self.folder1_path, folder1_files[i]), os.path.join(self.folder2_path, folder2_files[i])))\n",
    "        return file_paths\n",
    "\n",
    "    def __len__(self):\n",
    "        return len(self.file_paths)\n",
    "\n",
    "    def __getitem__(self, idx):\n",
    "        file_path1, file_path2 = self.file_paths[idx]\n",
    "        I0 = Image.open(file_path1)\n",
    "        O0 = Image.open(file_path2)\n",
    "\n",
    "        I1 = self.scale_transform(I0)\n",
    "        I2 = self.scale_transform(I1)\n",
    "        I3 = self.scale_transform(I2)\n",
    "\n",
    "        O1 = self.scale_transform(O0)\n",
    "        O2 = self.scale_transform(O1)\n",
    "        O3 = self.scale_transform(O2)\n",
    "\n",
    "        I0 = self.tensor_transform(I0)\n",
    "        I1 = self.tensor_transform(I1)\n",
    "        I2 = self.tensor_transform(I2)\n",
    "        I3 = self.tensor_transform(I3)\n",
    "\n",
    "        O0 = self.tensor_transform(O0)\n",
    "        O1 = self.tensor_transform(O1)\n",
    "        O2 = self.tensor_transform(O2)\n",
    "        O3 = self.tensor_transform(O3)\n",
    "\n",
    "        return (I0, I1, I2, I3), (O0, O1, O2, O3)\n",
    "\n",
    "\n"
   ]
  },
  {
   "cell_type": "code",
   "execution_count": 2,
   "metadata": {},
   "outputs": [],
   "source": [
    "\n",
    "\n",
    "custom_dataset = HeyZee('Data/haze', 'Data/clear')\n",
    "dataloader = DataLoader(custom_dataset, batch_size=4, shuffle=True)\n",
    "\n",
    "(I0, I1, I2, I3), (O0, O1, O2, O3) = custom_dataset[0]"
   ]
  },
  {
   "cell_type": "code",
   "execution_count": 3,
   "metadata": {},
   "outputs": [
    {
     "data": {
      "text/plain": [
       "(torch.Size([3, 4000, 6000]),\n",
       " torch.Size([3, 2000, 3000]),\n",
       " torch.Size([3, 1000, 1500]),\n",
       " torch.Size([3, 500, 750]),\n",
       " torch.Size([3, 4000, 6000]),\n",
       " torch.Size([3, 2000, 3000]),\n",
       " torch.Size([3, 1000, 1500]),\n",
       " torch.Size([3, 500, 750]))"
      ]
     },
     "execution_count": 3,
     "metadata": {},
     "output_type": "execute_result"
    }
   ],
   "source": [
    "I0.shape, I1.shape, I2.shape, I3.shape, O0.shape, O1.shape, O2.shape, O3.shape"
   ]
  },
  {
   "cell_type": "code",
   "execution_count": null,
   "metadata": {},
   "outputs": [],
   "source": []
  }
 ],
 "metadata": {
  "kernelspec": {
   "display_name": "venv",
   "language": "python",
   "name": "python3"
  },
  "language_info": {
   "codemirror_mode": {
    "name": "ipython",
    "version": 3
   },
   "file_extension": ".py",
   "mimetype": "text/x-python",
   "name": "python",
   "nbconvert_exporter": "python",
   "pygments_lexer": "ipython3",
   "version": "3.9.6"
  }
 },
 "nbformat": 4,
 "nbformat_minor": 2
}
