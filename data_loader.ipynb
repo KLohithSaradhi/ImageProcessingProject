{
 "cells": [
  {
   "cell_type": "code",
   "execution_count": 1,
   "metadata": {},
   "outputs": [],
   "source": [
    "\n",
    "import utils\n",
    "path_pairs = utils.get_file_paths('Data/haze', 'Data/clear')\n",
    "\n",
    "\n",
    "custom_dataset = utils.HeyZee(path_pairs)\n",
    "\n",
    "(I0, I1, I2, I3), (O0, O1, O2, O3) = custom_dataset[0]"
   ]
  },
  {
   "cell_type": "code",
   "execution_count": 2,
   "metadata": {},
   "outputs": [
    {
     "data": {
      "text/plain": [
       "(torch.Size([3, 4000, 6000]),\n",
       " torch.Size([3, 2000, 3000]),\n",
       " torch.Size([3, 1000, 1500]),\n",
       " torch.Size([3, 500, 750]),\n",
       " torch.Size([3, 4000, 6000]),\n",
       " torch.Size([3, 2000, 3000]),\n",
       " torch.Size([3, 1000, 1500]),\n",
       " torch.Size([3, 500, 750]))"
      ]
     },
     "execution_count": 2,
     "metadata": {},
     "output_type": "execute_result"
    }
   ],
   "source": [
    "I0.shape, I1.shape, I2.shape, I3.shape, O0.shape, O1.shape, O2.shape, O3.shape"
   ]
  },
  {
   "cell_type": "code",
   "execution_count": null,
   "metadata": {},
   "outputs": [],
   "source": []
  }
 ],
 "metadata": {
  "kernelspec": {
   "display_name": "venv",
   "language": "python",
   "name": "python3"
  },
  "language_info": {
   "codemirror_mode": {
    "name": "ipython",
    "version": 3
   },
   "file_extension": ".py",
   "mimetype": "text/x-python",
   "name": "python",
   "nbconvert_exporter": "python",
   "pygments_lexer": "ipython3",
   "version": "3.9.6"
  }
 },
 "nbformat": 4,
 "nbformat_minor": 2
}
