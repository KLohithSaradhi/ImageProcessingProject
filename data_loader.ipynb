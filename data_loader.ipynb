{
 "cells": [
  {
   "cell_type": "code",
   "execution_count": 1,
   "metadata": {},
   "outputs": [],
   "source": [
    "\n",
    "import utils\n",
    "path_pairs = utils.get_file_paths('Data/haze', 'Data/clear')\n",
    "\n",
    "\n",
    "custom_dataset = utils.HeyZee(path_pairs)\n",
    "\n",
    "(I0, I1, I2, I3), (O0, O1, O2, O3) = custom_dataset[0]"
   ]
  },
  {
   "cell_type": "code",
   "execution_count": 2,
   "metadata": {},
   "outputs": [
    {
     "data": {
      "text/plain": [
       "(torch.Size([3, 4000, 6000]),\n",
       " torch.Size([3, 2000, 3000]),\n",
       " torch.Size([3, 1000, 1500]),\n",
       " torch.Size([3, 500, 750]),\n",
       " torch.Size([3, 4000, 6000]),\n",
       " torch.Size([3, 2000, 3000]),\n",
       " torch.Size([3, 1000, 1500]),\n",
       " torch.Size([3, 500, 750]))"
      ]
     },
     "execution_count": 2,
     "metadata": {},
     "output_type": "execute_result"
    }
   ],
   "source": [
    "I0.shape, I1.shape, I2.shape, I3.shape, O0.shape, O1.shape, O2.shape, O3.shape"
   ]
  },
  {
   "cell_type": "code",
   "execution_count": null,
   "metadata": {},
   "outputs": [],
   "source": [
    "import os\n",
    "import cv2\n",
    "import numpy as np\n",
    "import matplotlib.pyplot as plt\n",
    "\n",
    "# do gamma correction\n",
    "#img_gamma1 = np.power(img, gamma).clip(0,255).astype(np.uint8)\n",
    "\n",
    "# gamma correction\n",
    "def gammaCorrection(src, gamma):\n",
    "    invGamma = 1 / gamma\n",
    "\n",
    "    table = [((i / 255) ** invGamma) * 255 for i in range(256)]\n",
    "    table = np.array(table, np.uint8)\n",
    "\n",
    "    return cv2.LUT(src, table)\n",
    "\n",
    "\n",
    "def do_gamma_correction(folder, gamma_B, gamma_G, gamma_R):\n",
    "    for filename in os.listdir(folder):\n",
    "        img = cv2.imread(os.path.join(folder,filename))\n",
    "        # do gamma correction\n",
    "        gammaImg_B = gammaCorrection(img[:,:, 0], gamma_B)\n",
    "        gammaImg_G = gammaCorrection(img[:,:, 1], gamma_G)\n",
    "        gammaImg_R = gammaCorrection(img[:,:, 2], gamma_R)\n",
    "        gammaImg = np.dstack((gammaImg_B,gammaImg_G, gammaImg_R))\n",
    "\n",
    "        # save to gamma folder\n",
    "        cv2.imwrite(os.path.join(savepath  , filename), gammaImg)\n",
    "\n",
    "\n",
    "readpath = \"./dehaze_dataset/train/NTIRE2020/hazy\"\n",
    "savepath = \"./data_hazy_gc/20_hazyRGB_gamma\"\n",
    "#do_gamma_correction(readpath, gamma_B=1.9, gamma_G=1.6, gamma_R=1.24)\n",
    "# for 2020 GT images, gamma values should be: R(1.07), G(1.17), B(1.05), please verify the adjusted mean and variance\n",
    "\n",
    "readpath = \"./dehaze_dataset/train/NTIRE2021/hazy\"\n",
    "savepath = \"./data_hazy_gc/21_hazyRGB_gamma\"\n",
    "do_gamma_correction(readpath, gamma_B=1, gamma_G=0.85, gamma_R=0.72)\n",
    "# for 2021 GT images, gamma values should be: R(0.65), G(0.79), B(0.92), please verify the adjusted mean and variance"
   ]
  },
  {
   "cell_type": "code",
   "execution_count": null,
   "metadata": {},
   "outputs": [],
   "source": [
    "from PIL import Image\n",
    "from torch.utils.data import Dataset\n",
    "from torchvision import transforms\n",
    "import torchvision\n",
    "import torchvision.transforms.functional as TF\n",
    "import random\n",
    "import os\n",
    "\n",
    "#data augmentation for image rotate\n",
    "def augment(hazy, clean):\n",
    "    augmentation_method = random.choice([0, 1, 2, 3, 4, 5])\n",
    "    rotate_degree = random.choice([90, 180, 270])\n",
    "    '''Rotate'''\n",
    "    if augmentation_method == 0:\n",
    "        hazy = transforms.functional.rotate(hazy, rotate_degree)\n",
    "        clean = transforms.functional.rotate(clean, rotate_degree)\n",
    "        return hazy, clean\n",
    "    '''Vertical'''\n",
    "    if augmentation_method == 1:\n",
    "        vertical_flip = torchvision.transforms.RandomVerticalFlip(p=1)\n",
    "        hazy = vertical_flip(hazy)\n",
    "        clean = vertical_flip(clean)\n",
    "        return hazy, clean\n",
    "    '''Horizontal'''\n",
    "    if augmentation_method == 2:\n",
    "        horizontal_flip = torchvision.transforms.RandomHorizontalFlip(p=1)\n",
    "        hazy = horizontal_flip(hazy)\n",
    "        clean = horizontal_flip(clean)\n",
    "        return hazy, clean\n",
    "    '''no change'''\n",
    "    if augmentation_method == 3 or augmentation_method == 4 or augmentation_method == 5:\n",
    "        return hazy, clean\n",
    "\n",
    "\n",
    "class dehaze_train_dataset(Dataset):\n",
    "    def __init__(self, train_dir):\n",
    "        self.transform = transforms.Compose([transforms.ToTensor()])\n",
    "        self.list_train=[]\n",
    "        for line in open(os.path.join(train_dir, 'train.txt')):\n",
    "            line = line.strip('\\n')\n",
    "            if line!='':\n",
    "                self.list_train.append(line)\n",
    "        #'./NTIRE2021_Train_Hazy/'\n",
    "        self.root_hazy=os.path.join(train_dir, 'hazy/')\n",
    "        self.root_clean =os.path.join(train_dir, 'clean/')\n",
    "        self.file_len = len(self.list_train)\n",
    "\n",
    "    def __getitem__(self, index, is_train = True):\n",
    "        if is_train:\n",
    "            hazy = Image.open(self.root_hazy + self.list_train[index])\n",
    "            clean=Image.open(self.root_clean + self.list_train[index])\n",
    "            #crop a patch\n",
    "            i,j,h,w = transforms.RandomCrop.get_params(hazy, output_size = (256,256))\n",
    "            hazy_ = TF.crop(hazy, i, j, h, w)\n",
    "            clean_ = TF.crop(clean, i, j, h, w)\n",
    "\n",
    "            #data argumentation\n",
    "            hazy_arg, clean_arg = augment(hazy_, clean_)\n",
    "        hazy = self.transform(hazy_arg)\n",
    "        clean = self.transform(clean_arg)\n",
    "        return hazy,clean\n",
    "\n",
    "    def __len__(self):\n",
    "        return self.file_len"
   ]
  }
 ],
 "metadata": {
  "kernelspec": {
   "display_name": "venv",
   "language": "python",
   "name": "python3"
  },
  "language_info": {
   "codemirror_mode": {
    "name": "ipython",
    "version": 3
   },
   "file_extension": ".py",
   "mimetype": "text/x-python",
   "name": "python",
   "nbconvert_exporter": "python",
   "pygments_lexer": "ipython3",
   "version": "3.9.6"
  }
 },
 "nbformat": 4,
 "nbformat_minor": 2
}
