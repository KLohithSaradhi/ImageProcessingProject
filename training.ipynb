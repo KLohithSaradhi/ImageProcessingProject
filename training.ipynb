{
 "cells": [
  {
   "cell_type": "code",
   "execution_count": null,
   "metadata": {},
   "outputs": [],
   "source": [
    "import utils\n",
    "import model"
   ]
  },
  {
   "cell_type": "code",
   "execution_count": null,
   "metadata": {},
   "outputs": [],
   "source": [
    "from torch.utils.data import DataLoader\n",
    "from torch.optim import Adam\n",
    "\n",
    "import torch\n",
    "\n",
    "path = \"/Data\"\n",
    "path_pairs = utils.get_file_paths(\"./AugmentedData/hazy\", \"./AugmentedData/clear\")\n",
    "\n"
   ]
  },
  {
   "cell_type": "code",
   "execution_count": null,
   "metadata": {},
   "outputs": [],
   "source": [
    "from sklearn.model_selection import train_test_split\n",
    "\n",
    "train_pairs, test_pairs = train_test_split(path_pairs, test_size=0.2, random_state=42)\n",
    "\n",
    "train_dataset = utils.HeyZee(train_pairs)\n",
    "test_dataset = utils.HeyZee(test_pairs)\n",
    "\n",
    "BATCH_SIZE = 1\n",
    "\n",
    "train_loader = DataLoader(train_dataset, batch_size=BATCH_SIZE, shuffle=True)\n",
    "test_loader = DataLoader(test_dataset, batch_size=BATCH_SIZE, shuffle=True)"
   ]
  },
  {
   "cell_type": "code",
   "execution_count": null,
   "metadata": {},
   "outputs": [],
   "source": [
    "TheHayZee = model.MASK()\n",
    "\n",
    "TheHayZee = TheHayZee.cuda()\n",
    "\n",
    "loss = utils.TotalLoss()\n",
    "optim = Adam(TheHayZee.parameters(), lr=5e-4, betas = (0.5, 0.999), weight_decay=0.0001)"
   ]
  },
  {
   "cell_type": "code",
   "execution_count": null,
   "metadata": {},
   "outputs": [],
   "source": [
    "epochs = 1\n",
    "\n",
    "for e in range(epochs):\n",
    "\n",
    "    for i, (haze, clear) in enumerate(train_loader):\n",
    "\n",
    "        I0, I1, I2, I3 = haze\n",
    "        O0, O1, O2, O3 = clear\n",
    "\n",
    "        I0 = I0.cuda()\n",
    "        I1 = I1.cuda()\n",
    "        I2 = I2.cuda()\n",
    "        I3 = I3.cuda()\n",
    "\n",
    "        O0 = O0.cuda()\n",
    "        O1 = O1.cuda()\n",
    "        O2 = O2.cuda()\n",
    "        O3 = O3.cuda()\n",
    "        \n",
    "        optim.zero_grad()\n",
    "        out = TheHayZee(I0, I1, I2, I3)\n",
    "\n",
    "        loss_val = loss((O0, O1, O2, O3), out)\n",
    "\n",
    "        loss_val.backward()\n",
    "        optim.step()\n",
    "\n",
    "        print(f\"Epoch {e} Iteration {i} Loss {loss_val.item()}\")"
   ]
  }
 ],
 "metadata": {
  "kernelspec": {
   "display_name": "venv",
   "language": "python",
   "name": "python3"
  },
  "language_info": {
   "codemirror_mode": {
    "name": "ipython",
    "version": 3
   },
   "file_extension": ".py",
   "mimetype": "text/x-python",
   "name": "python",
   "nbconvert_exporter": "python",
   "pygments_lexer": "ipython3",
   "version": "3.9.17"
  }
 },
 "nbformat": 4,
 "nbformat_minor": 2
}
