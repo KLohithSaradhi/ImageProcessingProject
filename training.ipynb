{
 "cells": [
  {
   "cell_type": "code",
   "execution_count": 2,
   "metadata": {},
   "outputs": [],
   "source": [
    "import utils\n",
    "import model"
   ]
  },
  {
   "cell_type": "code",
   "execution_count": 3,
   "metadata": {},
   "outputs": [],
   "source": [
    "from torch.utils.data import DataLoader\n",
    "from torch.optim import Adam\n",
    "\n",
    "import torch\n",
    "\n",
    "path = \"/Data\"\n",
    "path_pairs = utils.get_file_paths(\"./Data/haze\", \"./Data/clear\")\n",
    "\n"
   ]
  },
  {
   "cell_type": "code",
   "execution_count": 4,
   "metadata": {},
   "outputs": [],
   "source": [
    "from sklearn.model_selection import train_test_split\n",
    "\n",
    "train_pairs, test_pairs = train_test_split(path_pairs, test_size=0.2, random_state=42)\n",
    "\n",
    "train_dataset = utils.HeyZee(train_pairs)\n",
    "test_dataset = utils.HeyZee(test_pairs)\n",
    "\n",
    "BATCH_SIZE = 1\n",
    "\n",
    "train_loader = DataLoader(train_dataset, batch_size=BATCH_SIZE, shuffle=True)\n",
    "test_loader = DataLoader(test_dataset, batch_size=BATCH_SIZE, shuffle=True)\n",
    "\n"
   ]
  },
  {
   "cell_type": "code",
   "execution_count": 5,
   "metadata": {},
   "outputs": [
    {
     "name": "stderr",
     "output_type": "stream",
     "text": [
      "/Users/achintya/Achintya/Sem-6/IVP/Project/ImageProcessingProject/venv/lib/python3.9/site-packages/torchvision/models/_utils.py:208: UserWarning: The parameter 'pretrained' is deprecated since 0.13 and may be removed in the future, please use 'weights' instead.\n",
      "  warnings.warn(\n",
      "/Users/achintya/Achintya/Sem-6/IVP/Project/ImageProcessingProject/venv/lib/python3.9/site-packages/torchvision/models/_utils.py:223: UserWarning: Arguments other than a weight enum or `None` for 'weights' are deprecated since 0.13 and may be removed in the future. The current behavior is equivalent to passing `weights=VGG16_Weights.IMAGENET1K_V1`. You can also use `weights=VGG16_Weights.DEFAULT` to get the most up-to-date weights.\n",
      "  warnings.warn(msg)\n"
     ]
    }
   ],
   "source": [
    "TheHayZee = model.MASK()\n",
    "\n",
    "loss = utils.TotalLoss()\n",
    "optim = Adam(TheHayZee.parameters(), lr=5e-4, betas = (0.5, 0.999), weight_decay=0.0001)\n"
   ]
  },
  {
   "cell_type": "code",
   "execution_count": 6,
   "metadata": {},
   "outputs": [
    {
     "name": "stdout",
     "output_type": "stream",
     "text": [
      "hoi\n"
     ]
    },
    {
     "ename": "",
     "evalue": "",
     "output_type": "error",
     "traceback": [
      "\u001b[1;31mThe Kernel crashed while executing code in the current cell or a previous cell. \n",
      "\u001b[1;31mPlease review the code in the cell(s) to identify a possible cause of the failure. \n",
      "\u001b[1;31mClick <a href='https://aka.ms/vscodeJupyterKernelCrash'>here</a> for more info. \n",
      "\u001b[1;31mView Jupyter <a href='command:jupyter.viewOutput'>log</a> for further details."
     ]
    }
   ],
   "source": [
    "epochs = 1\n",
    "\n",
    "for e in range(epochs):\n",
    "\n",
    "    for i, (haze, clear) in enumerate(train_loader):\n",
    "\n",
    "        I0, I1, I2, I3 = haze\n",
    "        O0, O1, O2, O3 = clear\n",
    "\n",
    "\n",
    "        optim.zero_grad()\n",
    "        print(\"hoi\")\n",
    "        out = TheHayZee(I0, I1, I2, I3)\n",
    "\n",
    "        print(\"hoi hoi\")\n",
    "        loss_val = loss((O0, O1, O2, O3), out)\n",
    "\n",
    "        print(\"hoi hoi hoi\")\n",
    "        loss_val.backward()\n",
    "\n",
    "        print(\"hoi hoi hoi hoi\")\n",
    "        optim.step()\n",
    "\n",
    "        print(f\"Epoch {e} Iteration {i} Loss {loss_val.item()}\")"
   ]
  }
 ],
 "metadata": {
  "kernelspec": {
   "display_name": "venv",
   "language": "python",
   "name": "python3"
  },
  "language_info": {
   "codemirror_mode": {
    "name": "ipython",
    "version": 3
   },
   "file_extension": ".py",
   "mimetype": "text/x-python",
   "name": "python",
   "nbconvert_exporter": "python",
   "pygments_lexer": "ipython3",
   "version": "3.9.6"
  }
 },
 "nbformat": 4,
 "nbformat_minor": 2
}
