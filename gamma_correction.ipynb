{
 "cells": [
  {
   "cell_type": "code",
   "execution_count": null,
   "metadata": {},
   "outputs": [],
   "source": [
    "import os\n",
    "import cv2\n",
    "import numpy as np\n",
    "import matplotlib.pyplot as plt\n",
    "\n",
    "# do gamma correction\n",
    "#img_gamma1 = np.power(img, gamma).clip(0,255).astype(np.uint8)\n",
    "\n",
    "# gamma correction\n",
    "def gammaCorrection(src, gamma):\n",
    "    invGamma = 1 / gamma\n",
    "\n",
    "    table = [((i / 255) ** invGamma) * 255 for i in range(256)]\n",
    "    table = np.array(table, np.uint8)\n",
    "\n",
    "    return cv2.LUT(src, table)\n",
    "\n",
    "\n",
    "def do_gamma_correction(folder, gamma_B, gamma_G, gamma_R):\n",
    "    for filename in os.listdir(folder):\n",
    "        img = cv2.imread(os.path.join(folder,filename))\n",
    "        # do gamma correction\n",
    "        gammaImg_B = gammaCorrection(img[:,:, 0], gamma_B)\n",
    "        gammaImg_G = gammaCorrection(img[:,:, 1], gamma_G)\n",
    "        gammaImg_R = gammaCorrection(img[:,:, 2], gamma_R)\n",
    "        gammaImg = np.dstack((gammaImg_B,gammaImg_G, gammaImg_R))\n",
    "\n",
    "        # save to gamma folder\n",
    "        cv2.imwrite(os.path.join(savepath  , filename), gammaImg)\n",
    "\n",
    "\n",
    "readpath = \"./dehaze_dataset/train/NTIRE2020/hazy\"\n",
    "savepath = \"./data_hazy_gc/20_hazyRGB_gamma\"\n",
    "#do_gamma_correction(readpath, gamma_B=1.9, gamma_G=1.6, gamma_R=1.24)\n",
    "# for 2020 GT images, gamma values should be: R(1.07), G(1.17), B(1.05), please verify the adjusted mean and variance\n",
    "\n",
    "readpath = \"./dehaze_dataset/train/NTIRE2021/hazy\"\n",
    "savepath = \"./data_hazy_gc/21_hazyRGB_gamma\"\n",
    "do_gamma_correction(readpath, gamma_B=1, gamma_G=0.85, gamma_R=0.72)\n",
    "# for 2021 GT images, gamma values should be: R(0.65), G(0.79), B(0.92), please verify the adjusted mean and variance"
   ]
  }
 ],
 "metadata": {
  "language_info": {
   "name": "python"
  }
 },
 "nbformat": 4,
 "nbformat_minor": 2
}
