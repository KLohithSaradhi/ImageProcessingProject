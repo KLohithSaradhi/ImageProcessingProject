{
 "cells": [
  {
   "cell_type": "code",
   "execution_count": 1,
   "metadata": {},
   "outputs": [],
   "source": [
    "import cv2\n",
    "import numpy as np\n",
    "import os\n",
    "\n",
    "CLEAR_PATH = \"./Data/clear/\"\n",
    "HAZY_PATH = \"./Data/hazy/\"\n",
    "\n",
    "TARGET_CLEAR_PATH = \"./AugmentedData/clear/\"\n",
    "TARGET_HAZY_PATH = \"./AugmentedData/hazy/\""
   ]
  },
  {
   "cell_type": "code",
   "execution_count": 2,
   "metadata": {},
   "outputs": [],
   "source": [
    "def sample_crops(clear_image_path, hazy_image_path,  crop_size, number_of_crops):\n",
    "    crops = []\n",
    "\n",
    "    clear_image = cv2.imread(clear_image_path)\n",
    "    hazy_image = cv2.imread(hazy_image_path)\n",
    "\n",
    "    for _ in range(number_of_crops):\n",
    "        # random crop\n",
    "        x = np.random.randint(0, clear_image.shape[0] - crop_size)\n",
    "        y = np.random.randint(0, clear_image.shape[1] - crop_size)\n",
    "        clear_crop = clear_image[x:x+crop_size, y:y+crop_size]\n",
    "        hazy_crop = hazy_image[x:x+crop_size, y:y+crop_size]\n",
    "\n",
    "        # random scale\n",
    "        # scale = np.random.uniform(0.5, 1.0)\n",
    "        # clear_crop = cv2.resize(clear_crop, (int(clear_crop.shape[1] * scale), int(clear_crop.shape[0] * scale)))\n",
    "        # hazy_crop = cv2.resize(hazy_crop, (int(hazy_crop.shape[1] * scale), int(hazy_crop.shape[0] * scale)))  \n",
    "\n",
    "        # random flip\n",
    "        if np.random.rand() > 0.5:\n",
    "            clear_crop = cv2.flip(clear_crop, 1)\n",
    "            hazy_crop = cv2.flip(hazy_crop, 1) \n",
    "\n",
    "        crops += [(clear_crop, hazy_crop)]\n",
    "\n",
    "    return crops"
   ]
  },
  {
   "cell_type": "code",
   "execution_count": 3,
   "metadata": {},
   "outputs": [],
   "source": [
    "clear_images_paths = [CLEAR_PATH + f for f in os.listdir(CLEAR_PATH)]\n",
    "hazy_images_paths = [HAZY_PATH + f for f in os.listdir(HAZY_PATH)]"
   ]
  },
  {
   "cell_type": "code",
   "execution_count": 4,
   "metadata": {},
   "outputs": [],
   "source": [
    "for clear_image_path, hazy_image_path in zip(clear_images_paths, hazy_images_paths):\n",
    "    crops = sample_crops(clear_image_path, hazy_image_path, 512, 100)\n",
    "    for i, (clear_crop, hazy_crop) in enumerate(crops):\n",
    "        cv2.imwrite(TARGET_CLEAR_PATH + f\"{i}_{clear_image_path.split('/')[-1]}\", clear_crop)\n",
    "        cv2.imwrite(TARGET_HAZY_PATH + f\"{i}_{hazy_image_path.split('/')[-1]}\", hazy_crop)"
   ]
  },
  {
   "cell_type": "code",
   "execution_count": null,
   "metadata": {},
   "outputs": [],
   "source": []
  },
  {
   "cell_type": "code",
   "execution_count": null,
   "metadata": {},
   "outputs": [],
   "source": []
  }
 ],
 "metadata": {
  "kernelspec": {
   "display_name": "torch",
   "language": "python",
   "name": "python3"
  },
  "language_info": {
   "codemirror_mode": {
    "name": "ipython",
    "version": 3
   },
   "file_extension": ".py",
   "mimetype": "text/x-python",
   "name": "python",
   "nbconvert_exporter": "python",
   "pygments_lexer": "ipython3",
   "version": "3.8.18"
  }
 },
 "nbformat": 4,
 "nbformat_minor": 2
}
