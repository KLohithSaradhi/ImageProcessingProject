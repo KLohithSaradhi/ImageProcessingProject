{
 "cells": [
  {
   "cell_type": "code",
   "execution_count": 1,
   "metadata": {},
   "outputs": [
    {
     "name": "stderr",
     "output_type": "stream",
     "text": [
      "/Users/lohith/miniconda3/envs/torch/lib/python3.8/site-packages/tqdm/auto.py:21: TqdmWarning: IProgress not found. Please update jupyter and ipywidgets. See https://ipywidgets.readthedocs.io/en/stable/user_install.html\n",
      "  from .autonotebook import tqdm as notebook_tqdm\n",
      "/Users/lohith/miniconda3/envs/torch/lib/python3.8/site-packages/transformers/utils/generic.py:441: UserWarning: torch.utils._pytree._register_pytree_node is deprecated. Please use torch.utils._pytree.register_pytree_node instead.\n",
      "  _torch_pytree._register_pytree_node(\n"
     ]
    }
   ],
   "source": [
    "import utils\n",
    "import model\n",
    "from torch.utils.data import DataLoader\n",
    "from torch.optim import Adam\n",
    "\n",
    "import torch\n",
    "import os\n",
    "import cv2\n",
    "\n",
    "source_path = \"./LargerChunks/hazy/\"\n",
    "target_path = \"./Submission/trial1/\"\n",
    "paths = [source_path + x for x in os.listdir(source_path)]"
   ]
  },
  {
   "cell_type": "code",
   "execution_count": 2,
   "metadata": {},
   "outputs": [],
   "source": [
    "TEST = utils.HeyZeeTest(paths)\n",
    "TEST_LOADER = DataLoader(TEST, batch_size=1)"
   ]
  },
  {
   "cell_type": "code",
   "execution_count": 3,
   "metadata": {},
   "outputs": [
    {
     "data": {
      "text/plain": [
       "<All keys matched successfully>"
      ]
     },
     "execution_count": 3,
     "metadata": {},
     "output_type": "execute_result"
    }
   ],
   "source": [
    "TheHayZee = model.MASK()\n",
    "\n",
    "TheHayZee.load_state_dict(torch.load('./weights/model_11.pth', map_location=torch.device(\"cpu\")))\n"
   ]
  },
  {
   "cell_type": "code",
   "execution_count": 4,
   "metadata": {},
   "outputs": [],
   "source": [
    "import numpy as np\n",
    "\n",
    "def scale_to_norm(im):\n",
    "    MIN = np.min(im.permute(1,2,0).numpy())\n",
    "    MAX = np.max(im.permute(1,2,0).numpy())\n",
    "\n",
    "    return np.array(255 * (im.permute(1,2,0).numpy() - MIN)/(MAX - MIN), dtype = np.int64)"
   ]
  },
  {
   "cell_type": "code",
   "execution_count": 5,
   "metadata": {},
   "outputs": [
    {
     "ename": "",
     "evalue": "",
     "output_type": "error",
     "traceback": [
      "\u001b[1;31mThe Kernel crashed while executing code in the current cell or a previous cell. \n",
      "\u001b[1;31mPlease review the code in the cell(s) to identify a possible cause of the failure. \n",
      "\u001b[1;31mClick <a href='https://aka.ms/vscodeJupyterKernelCrash'>here</a> for more info. \n",
      "\u001b[1;31mView Jupyter <a href='command:jupyter.viewOutput'>log</a> for further details."
     ]
    }
   ],
   "source": [
    "TheHayZee.eval()  # Set the model to evaluation mode\n",
    "\n",
    "with torch.no_grad():  # Disable gradient calculation\n",
    "    for i, (path, haze) in enumerate(TEST_LOADER):\n",
    "        I0, I1, I2, I3 = haze\n",
    "\n",
    "        out = TheHayZee(I0, I1, I2, I3)\n",
    "\n",
    "        to_write = target_path + path[0].split(\"/\")[-1]\n",
    "\n",
    "        saving_image = np.float32(scale_to_norm(I0[0]))\n",
    "\n",
    "        print(np.min(saving_image), np.max(saving_image))\n",
    "\n",
    "        cv2.imwrite(to_write, cv2.cvtColor(saving_image, cv2.COLOR_RGB2BGR))"
   ]
  },
  {
   "cell_type": "code",
   "execution_count": null,
   "metadata": {},
   "outputs": [],
   "source": []
  }
 ],
 "metadata": {
  "kernelspec": {
   "display_name": "torch",
   "language": "python",
   "name": "python3"
  },
  "language_info": {
   "codemirror_mode": {
    "name": "ipython",
    "version": 3
   },
   "file_extension": ".py",
   "mimetype": "text/x-python",
   "name": "python",
   "nbconvert_exporter": "python",
   "pygments_lexer": "ipython3",
   "version": "3.8.18"
  }
 },
 "nbformat": 4,
 "nbformat_minor": 2
}
